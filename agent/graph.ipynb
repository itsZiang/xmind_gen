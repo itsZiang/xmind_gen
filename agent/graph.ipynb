{
 "cells": [
  {
   "cell_type": "code",
   "execution_count": 13,
   "id": "90f2ef19",
   "metadata": {},
   "outputs": [
    {
     "ename": "ImportError",
     "evalue": "cannot import name 'generate_global_title_node' from 'utils.nodes' (/home/misa/work/xmind2/agent/utils/nodes.py)",
     "output_type": "error",
     "traceback": [
      "\u001b[31m---------------------------------------------------------------------------\u001b[39m",
      "\u001b[31mImportError\u001b[39m                               Traceback (most recent call last)",
      "\u001b[36mCell\u001b[39m\u001b[36m \u001b[39m\u001b[32mIn[13]\u001b[39m\u001b[32m, line 3\u001b[39m\n\u001b[32m      1\u001b[39m \u001b[38;5;28;01mfrom\u001b[39;00m\u001b[38;5;250m \u001b[39m\u001b[34;01mlanggraph\u001b[39;00m\u001b[34;01m.\u001b[39;00m\u001b[34;01mgraph\u001b[39;00m\u001b[38;5;250m \u001b[39m\u001b[38;5;28;01mimport\u001b[39;00m StateGraph, START, END\n\u001b[32m      2\u001b[39m \u001b[38;5;28;01mfrom\u001b[39;00m\u001b[38;5;250m \u001b[39m\u001b[34;01mutils\u001b[39;00m\u001b[34;01m.\u001b[39;00m\u001b[34;01mstate\u001b[39;00m\u001b[38;5;250m \u001b[39m\u001b[38;5;28;01mimport\u001b[39;00m DocumentState\n\u001b[32m----> \u001b[39m\u001b[32m3\u001b[39m \u001b[38;5;28;01mfrom\u001b[39;00m\u001b[38;5;250m \u001b[39m\u001b[34;01mutils\u001b[39;00m\u001b[34;01m.\u001b[39;00m\u001b[34;01mnodes\u001b[39;00m\u001b[38;5;250m \u001b[39m\u001b[38;5;28;01mimport\u001b[39;00m (\n\u001b[32m      4\u001b[39m     decide_split,\n\u001b[32m      5\u001b[39m     split_into_chunks,\n\u001b[32m      6\u001b[39m     generate_xmindmark_direct,\n\u001b[32m      7\u001b[39m     generate_xmindmark_for_chunk,\n\u001b[32m      8\u001b[39m     merge_all_xmindmarks,\n\u001b[32m      9\u001b[39m     generate_global_title_node,\n\u001b[32m     10\u001b[39m )\n\u001b[32m     11\u001b[39m \u001b[38;5;28;01mfrom\u001b[39;00m\u001b[38;5;250m \u001b[39m\u001b[34;01mIPython\u001b[39;00m\u001b[34;01m.\u001b[39;00m\u001b[34;01mdisplay\u001b[39;00m\u001b[38;5;250m \u001b[39m\u001b[38;5;28;01mimport\u001b[39;00m Image, display\n\u001b[32m     14\u001b[39m \u001b[38;5;28;01mdef\u001b[39;00m\u001b[38;5;250m \u001b[39m\u001b[34mbuild_graph\u001b[39m():\n",
      "\u001b[31mImportError\u001b[39m: cannot import name 'generate_global_title_node' from 'utils.nodes' (/home/misa/work/xmind2/agent/utils/nodes.py)"
     ]
    }
   ],
   "source": [
    "from langgraph.graph import StateGraph, START, END\n",
    "from utils.state import DocumentState\n",
    "from utils.nodes import (\n",
    "    decide_split,\n",
    "    split_into_chunks,\n",
    "    generate_xmindmark_direct,\n",
    "    generate_xmindmark_for_chunk,\n",
    "    merge_all_xmindmarks,\n",
    "    generate_global_title_node,\n",
    ")\n",
    "from IPython.display import Image, display\n",
    "\n",
    "\n",
    "def build_graph():\n",
    "    builder = StateGraph(DocumentState)\n",
    "\n",
    "    builder.add_node(\"check_split\", decide_split)\n",
    "    builder.add_node(\"generate_global_title\", generate_global_title_node)\n",
    "    builder.add_node(\"split_chunks\", split_into_chunks)\n",
    "    builder.add_node(\"generate_direct\", generate_xmindmark_direct)\n",
    "    builder.add_node(\"generate_chunk_xmind\", generate_xmindmark_for_chunk)\n",
    "    builder.add_node(\"merge_xmind\", merge_all_xmindmarks)\n",
    "\n",
    "    builder.add_edge(START, \"check_split\")\n",
    "\n",
    "    # Điều hướng theo `need_split`\n",
    "    builder.add_conditional_edges(\n",
    "        \"check_split\",\n",
    "        lambda state: \"split_chunks\" if state[\"need_split\"] else \"generate_direct\", path_map={\"split_chunks\": \"split_chunks\", \"generate_direct\": \"generate_direct\"}\n",
    "    )\n",
    "\n",
    "    # Sau khi split\n",
    "    builder.add_edge(\"split_chunks\", \"generate_chunk_xmind\")\n",
    "\n",
    "    # Loop qua từng chunk\n",
    "    def should_continue(state: DocumentState):\n",
    "        return (\n",
    "            \"generate_chunk_xmind\"\n",
    "            if len(state[\"xmindmark_chunks_content\"]) < len(state[\"chunks\"])\n",
    "            else \"generate_global_title\"\n",
    "        )\n",
    "\n",
    "    builder.add_conditional_edges(\"generate_chunk_xmind\", should_continue, {\"generate_chunk_xmind\": \"generate_chunk_xmind\", \"generate_global_title\": \"generate_global_title\"})\n",
    "\n",
    "    builder.add_edge(\"generate_global_title\", \"merge_xmind\")\n",
    "\n",
    "    # Kết thúc\n",
    "    builder.add_edge(\"merge_xmind\", END)\n",
    "    builder.add_edge(\"generate_direct\", END)\n",
    "\n",
    "    return builder.compile()\n",
    "\n",
    "\n",
    "graph = build_graph()\n",
    "\n",
    "display(Image(graph.get_graph(xray=True).draw_mermaid_png()))"
   ]
  }
 ],
 "metadata": {
  "kernelspec": {
   "display_name": "xmind",
   "language": "python",
   "name": "python3"
  },
  "language_info": {
   "codemirror_mode": {
    "name": "ipython",
    "version": 3
   },
   "file_extension": ".py",
   "mimetype": "text/x-python",
   "name": "python",
   "nbconvert_exporter": "python",
   "pygments_lexer": "ipython3",
   "version": "3.11.13"
  }
 },
 "nbformat": 4,
 "nbformat_minor": 5
}
