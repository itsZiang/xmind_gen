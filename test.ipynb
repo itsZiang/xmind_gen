{
 "cells": [
  {
   "cell_type": "code",
   "execution_count": 1,
   "id": "1e45da78",
   "metadata": {},
   "outputs": [],
   "source": [
    "import os\n",
    "from dotenv import load_dotenv\n",
    "from tavily import TavilyClient\n",
    "\n",
    "load_dotenv()\n",
    "\n",
    "TAVILY_API_KEY = os.getenv(\"TAVILY_API_KEY\")\n",
    "\n",
    "tavily_client = TavilyClient(api_key=TAVILY_API_KEY)\n"
   ]
  },
  {
   "cell_type": "code",
   "execution_count": 8,
   "id": "4ebdd830",
   "metadata": {},
   "outputs": [],
   "source": [
    "response = tavily_client.search(query=\"Công ty misa là công ty gì?\", max_results=3)"
   ]
  },
  {
   "cell_type": "code",
   "execution_count": 9,
   "id": "bb0d5f50",
   "metadata": {},
   "outputs": [
    {
     "data": {
      "text/plain": [
       "{'query': 'Công ty misa là công ty gì?',\n",
       " 'follow_up_questions': None,\n",
       " 'answer': None,\n",
       " 'images': [],\n",
       " 'results': [{'url': 'https://vi.wikipedia.org/wiki/C%C3%B4ng_ty_MISA',\n",
       "   'title': 'Công ty MISA – Wikipedia tiếng Việt',\n",
       "   'content': 'MISA là công ty công nghệ thông tin tại Việt Nam được thành lập năm 1994 với lĩnh vực kinh doanh chính là cung cấp các giải pháp công nghệ thông tin cho cộng',\n",
       "   'score': 0.9203972,\n",
       "   'raw_content': None},\n",
       "  {'url': 'https://linkpower.vn/doi-tac/tim-hieu-misa',\n",
       "   'title': 'TÌM HIỂU MISA - CÔNG TY CÔNG NGHỆ HÀNG ĐẦU VIỆT NAM',\n",
       "   'content': 'Với khát vọng (phương châm) làm ra phần mềm phổ biến nhất, từ phần mềm kế toán ban đầu, trải qua gần 30 năm, với sự nỗ lực và đam mê của cả tập thể gần 2500 CBNV làm việc tại khối sản xuất, trung tâm Hỗ trợ khách hàng cùng 5 văn phòng đại diện trên toàn quốc, MISA đã và đang có những giải pháp đồng hành cùng sự phát triển của: 55.000 đơn vị Hành chính sự nghiệp, 10.000 xã phường, hơn 22.000 trường học; Gần 220.000 doanh nghiệp, hơn 17.000 hộ kinh doanh, Cùng hơn 2,5 triệu khách hàng cá nhân.',\n",
       "   'score': 0.7548612,\n",
       "   'raw_content': None},\n",
       "  {'url': 'https://www.misa.vn/',\n",
       "   'title': 'Công ty cổ phần MISA: Cung cấp các giải pháp chuyển đổi số toàn ...',\n",
       "   'content': 'Image 605: Tính nhiệm mạng Doanh nghiệp tăng năng suất và lợi thế cạnh tranh khi ứng dụng nền tảng số MISA AMIS tích hợp AI Image 607: Tính nhiệm mạngImage 609: Tính nhiệm mạng Ưu điểm của trợ lý AI MISA trong vận hành doanh nghiệp Image 611: Tính nhiệm mạngImage 613: Tính nhiệm mạng Hệ sinh thái số giúp doanh nghiệp vận hành hiệu quả dựa trên dữ liệu Image 615: Tính nhiệm mạngImage 617: Tính nhiệm mạng Hành trình 30 năm từ khát vọng \"Phụng sự xã hội\" tới giấc mơ đưa công nghệ thông tin Việt Nam chinh phục toàn cầu Image 619: Tính nhiệm mạngImage 621: Tính nhiệm mạng Ứng dụng AI giúp doanh nghiệp gia tăng năng suất gấp 10 lần Image 623: Tính nhiệm mạng',\n",
       "   'score': 0.37490568,\n",
       "   'raw_content': None}],\n",
       " 'response_time': 0.97}"
      ]
     },
     "execution_count": 9,
     "metadata": {},
     "output_type": "execute_result"
    }
   ],
   "source": [
    "response"
   ]
  }
 ],
 "metadata": {
  "kernelspec": {
   "display_name": "xmind",
   "language": "python",
   "name": "python3"
  },
  "language_info": {
   "codemirror_mode": {
    "name": "ipython",
    "version": 3
   },
   "file_extension": ".py",
   "mimetype": "text/x-python",
   "name": "python",
   "nbconvert_exporter": "python",
   "pygments_lexer": "ipython3",
   "version": "3.11.13"
  }
 },
 "nbformat": 4,
 "nbformat_minor": 5
}
